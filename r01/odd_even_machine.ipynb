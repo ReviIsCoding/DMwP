{
 "cells": [
  {
   "cell_type": "code",
   "execution_count": 4,
   "metadata": {},
   "outputs": [
    {
     "name": "stdout",
     "output_type": "stream",
     "text": [
      "Number 12 is even.\n",
      "Sequence: \n",
      "[12, 14, 16, 18, 20, 22, 24, 26, 28, 30]\n"
     ]
    }
   ],
   "source": [
    "''' A program that checks if the given number is even \n",
    "    and then generates a sequence of numbers based on the given number.'''\n",
    "    \n",
    "\n",
    "def odd_even(num):\n",
    "    if num % 2 == 0:\n",
    "        print(f'Number {num} is even.')\n",
    "    else:\n",
    "        print(f'Number {num} is not even.')\n",
    "    counter = 1\n",
    "    seq = []\n",
    "\n",
    "    print('Sequence: ')\n",
    "    seq.append(num)\n",
    "    while counter <= 9:\n",
    "        num +=2\n",
    "        seq.append(num)\n",
    "        counter +=1\n",
    "    \n",
    "    print(seq)\n",
    "\n",
    "if __name__ == '__main__':\n",
    "    try:\n",
    "        num = int(input(\"Give an integer: \"))\n",
    "        odd_even(num)\n",
    "    except ValueError:\n",
    "        print('An invalid value was specified. Restart the program.')"
   ]
  },
  {
   "cell_type": "code",
   "execution_count": null,
   "metadata": {},
   "outputs": [],
   "source": []
  }
 ],
 "metadata": {
  "kernelspec": {
   "display_name": "Python 3",
   "language": "python",
   "name": "python3"
  },
  "language_info": {
   "codemirror_mode": {
    "name": "ipython",
    "version": 3
   },
   "file_extension": ".py",
   "mimetype": "text/x-python",
   "name": "python",
   "nbconvert_exporter": "python",
   "pygments_lexer": "ipython3",
   "version": "3.11.9"
  }
 },
 "nbformat": 4,
 "nbformat_minor": 2
}
