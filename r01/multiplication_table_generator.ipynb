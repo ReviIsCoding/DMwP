{
 "cells": [
  {
   "cell_type": "code",
   "execution_count": 2,
   "metadata": {},
   "outputs": [
    {
     "name": "stdout",
     "output_type": "stream",
     "text": [
      "12 x 1 = 12\n",
      "12 x 2 = 24\n",
      "12 x 3 = 36\n",
      "12 x 4 = 48\n",
      "12 x 5 = 60\n",
      "12 x 6 = 72\n",
      "12 x 7 = 84\n",
      "12 x 8 = 96\n",
      "12 x 9 = 108\n"
     ]
    }
   ],
   "source": [
    "''' A program that generates a multiplication table, \n",
    "    the user specifies a digit and how many multiples to generate.'''\n",
    "\n",
    "def multi_table(number, multiples):\n",
    "    for i in range(1, multiples + 1):\n",
    "        print('{0} x {1} = {2}'. format(number, i, number*i))\n",
    "\n",
    "if __name__ == '__main__':\n",
    "    try:\n",
    "        number = int(input(\"Enter the number you want to multiply: \"))\n",
    "        multiples = int(input(\"Specify how many times you want to multiply it: \"))\n",
    "\n",
    "        multi_table(number, multiples)\n",
    "\n",
    "    except ValueError:\n",
    "        print('An invalid value was specified. Restart the program.')"
   ]
  }
 ],
 "metadata": {
  "kernelspec": {
   "display_name": "Python 3",
   "language": "python",
   "name": "python3"
  },
  "language_info": {
   "codemirror_mode": {
    "name": "ipython",
    "version": 3
   },
   "file_extension": ".py",
   "mimetype": "text/x-python",
   "name": "python",
   "nbconvert_exporter": "python",
   "pygments_lexer": "ipython3",
   "version": "3.11.9"
  }
 },
 "nbformat": 4,
 "nbformat_minor": 2
}
